{
 "cells": [
  {
   "cell_type": "markdown",
   "id": "09b0f08b",
   "metadata": {},
   "source": [
    "# 15-04-2024"
   ]
  },
  {
   "cell_type": "raw",
   "id": "a38debf4",
   "metadata": {},
   "source": [
    "LINEAR REGRESSION - CONTINUOUS\n",
    "LOGISTIC REGRESSION - 0 OR 1\n",
    "KNN CLASSIFICATION - MULTIPLE CLASSES (MORE THAN 2 CLASSES)\n",
    "\n",
    "MACHINE LEARNING - \n",
    "1. CONTINUATION\n",
    "2. VARIANCE\n",
    "3. ERROR HANDLING\n",
    "4. VOTING"
   ]
  },
  {
   "cell_type": "raw",
   "id": "1bf50ab4",
   "metadata": {},
   "source": [
    "BIAS - ERROR INSIDE THE DATA SET\n",
    "\n",
    "BIAS AND VARIANCE ARE DIRECTLY RELATED TO EACH OTHER.\n",
    "\n",
    "------------------------------------\n",
    "\n",
    "MIN-MAX SCALER AND STANDARD SCALER\n",
    "\n",
    "MIN-MAX SCALER = X-max - X-min / X-max + X-min (0 to 1)\n",
    "------------------------------------------------------------\n",
    "STANDARD SCALER = WHERE STANDARD DEVIATION = 1 AND MEAN = 0\n",
    "\n",
    "AFTER SCALING - SD WILL BE 1. AND MEAN WILL BE 0."
   ]
  },
  {
   "cell_type": "raw",
   "id": "57c9993c",
   "metadata": {},
   "source": [
    "----------------\n",
    "DECISION TREE - \n",
    "----------------\n",
    "\n",
    "ONE TOPIC DIVIDES THE DATA IN SMALL SETS.\n",
    "\n",
    "ROOT -> NODE -> LEAF\n",
    "\n",
    "RANDOM FOREST - WHEN SEVERAL DECISION TRESS ARE SEPARATED. FOR LEARNING ACCURACY"
   ]
  },
  {
   "cell_type": "markdown",
   "id": "17a01abc",
   "metadata": {},
   "source": [
    "# 23-04-2024"
   ]
  },
  {
   "cell_type": "raw",
   "id": "4afd6e59",
   "metadata": {},
   "source": [
    "1. Linear Regression \n",
    "2. Logistics Regression \n",
    "3. KNN\n",
    "4. Decision Tree\n",
    "5. Random Forest \n",
    "6. Bagging \n",
    "7. Boosting\n",
    "8. Voting classifier"
   ]
  },
  {
   "cell_type": "markdown",
   "id": "f7b413cd",
   "metadata": {},
   "source": [
    "# 25-04-2024"
   ]
  },
  {
   "cell_type": "raw",
   "id": "9da678e4",
   "metadata": {},
   "source": [
    "SVM (SUPPORT VECTOR MACHINE) = creates a hyper plane, and divides the group and finds out the perfect perpendicular distance.\n",
    "\n",
    "SVM performs better on handwriting dataset."
   ]
  },
  {
   "cell_type": "raw",
   "id": "4f0b5a10",
   "metadata": {},
   "source": [
    "-------------\n",
    "TEXT ANALYSIS\n",
    "-------------\n",
    "\n",
    "RELATIVITY - A VECTOR AND B VECTOR.\n",
    "RELATIVITY - WHEN JUGDGED FROM STATE OF POSITION/REFERENCE POINT.\n",
    "\n",
    "COUNT MATRIX - TRANSFORMS THE WORDS TO VALUES USING COUNT MATRIX AND SETS THE COUNT FOR WORDS AND SETS THEM IN THE MATRIX\n",
    "\n",
    "NB - NAPE BASE THEOREM - OCCURENCE OF THE NEXT EVENT PREDICTION. (PREDICTION OF THE NEXT OCCURENCE)\n",
    "\n",
    "BINOMIAL THEOREM - DENOTES A PROGRESSION BETWEEN TWO ENTITIES."
   ]
  }
 ],
 "metadata": {
  "kernelspec": {
   "display_name": "Python 3 (ipykernel)",
   "language": "python",
   "name": "python3"
  },
  "language_info": {
   "codemirror_mode": {
    "name": "ipython",
    "version": 3
   },
   "file_extension": ".py",
   "mimetype": "text/x-python",
   "name": "python",
   "nbconvert_exporter": "python",
   "pygments_lexer": "ipython3",
   "version": "3.11.5"
  }
 },
 "nbformat": 4,
 "nbformat_minor": 5
}
