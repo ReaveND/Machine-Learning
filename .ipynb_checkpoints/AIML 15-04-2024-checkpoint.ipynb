{
 "cells": [
  {
   "cell_type": "raw",
   "id": "a38debf4",
   "metadata": {},
   "source": [
    "LINEAR REGRESSION - CONTINUOUS\n",
    "LOGISTIC REGRESSION - 0 OR 1\n",
    "KNN CLASSIFICATION - MULTIPLE CLASSES (MORE THAN 2 CLASSES)\n",
    "\n",
    "MACHINE LEARNING - \n",
    "1. CONTINUATION\n",
    "2. VARIANCE\n",
    "3. ERROR HANDLING\n",
    "4. VOTING"
   ]
  },
  {
   "cell_type": "raw",
   "id": "1bf50ab4",
   "metadata": {},
   "source": [
    "BIAS - ERROR INSIDE THE DATA SET\n",
    "\n",
    "BIAS AND VARIANCE ARE DIRECTLY RELATED TO EACH OTHER.\n",
    "\n",
    "------------------------------------\n",
    "\n",
    "MIN-MAX SCALER AND STANDARD SCALER\n",
    "\n",
    "MIN-MAX SCALER = X-max - X-min / X-max + X-min (0 to 1)\n",
    "------------------------------------------------------------\n",
    "STANDARD SCALER = WHERE STANDARD DEVIATION = 1 AND MEAN = 0\n",
    "\n",
    "AFTER SCALING - SD WILL BE 1. AND MEAN WILL BE 0."
   ]
  },
  {
   "cell_type": "code",
   "execution_count": null,
   "id": "d050fdf9",
   "metadata": {},
   "outputs": [],
   "source": [
    "----------------\n",
    "DECISION TREE - \n",
    "----------------\n",
    "\n",
    "ONE TOPIC DIVIDES THE DATA IN SMALL SETS.\n",
    "\n",
    "ROOT -> NODE -> LEAF\n",
    "\n",
    "RANDOM FOREST - WHEN SEVERAL DECISION TRESS ARE SEPARATED. FOR LEARNING ACCURACY"
   ]
  },
  {
   "cell_type": "code",
   "execution_count": null,
   "id": "9e55c920",
   "metadata": {},
   "outputs": [],
   "source": []
  }
 ],
 "metadata": {
  "kernelspec": {
   "display_name": "Python 3 (ipykernel)",
   "language": "python",
   "name": "python3"
  },
  "language_info": {
   "codemirror_mode": {
    "name": "ipython",
    "version": 3
   },
   "file_extension": ".py",
   "mimetype": "text/x-python",
   "name": "python",
   "nbconvert_exporter": "python",
   "pygments_lexer": "ipython3",
   "version": "3.11.5"
  }
 },
 "nbformat": 4,
 "nbformat_minor": 5
}
