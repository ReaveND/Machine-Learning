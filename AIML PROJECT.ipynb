{
 "cells": [
  {
   "cell_type": "raw",
   "id": "dec77ae8",
   "metadata": {},
   "source": [
    "------------------------\n",
    "MACHINE LEARNING PROJECT\n",
    "------------------------\n",
    "\n",
    "ARTIFICIAL EYE - FOR ASSISTING BLIND PEOPLE - \n",
    "\n",
    "1. NAVIGATION PATH - OBJECT DETECTION, DISTANCE MEASUREMENT, \n",
    "\n",
    "BLUETOOH ENABLED HAVING ARITIFICIAL VISION - \n",
    "\n",
    "OBJECT DETECTION - DISTANCE, DIRECTION CHECKING, CHECK CLOSEST DISTANCE AND FIND THE DIRECTION IS LEFT OR RIGHT.\n",
    "\n",
    "SONIC SENSOR - FOR CREATING/DETECTING VIBRATION, DETECTION OF POTHOLES\n",
    "\n",
    "NAVIGATION USING GOOGLE MAP INTEGRATION, VOICE RECOGNITION USING PYTHON FOR VOICE INPUT - SOURCE AND DESTINATION.\n",
    "\n"
   ]
  },
  {
   "cell_type": "raw",
   "id": "c05716f1",
   "metadata": {},
   "source": [
    "GUIDANCE FROM SIR - \n",
    "\n",
    "NAVIGATION PATH - OBJECT DETECTION, DISTANCE MEASUREMENT, \n",
    "\n",
    "BLUETOOH ENABLED HAVING ARITIFICIAL VISION - \n",
    "\n",
    "OBJECT DETECTION - DISTANCE, DIRECTION CHECKING, CHECK CLOSEST DISTANCE AND FIND THE DIRECTION IS LEFT OR RIGHT.\n",
    "\n",
    "SONIC SENSOR - FOR CREATING/DETECTING VIBRATION, DETECTION OF POTHOLES."
   ]
  },
  {
   "cell_type": "raw",
   "id": "abb047ad",
   "metadata": {},
   "source": [
    "TEAM MEMBER INTEGRATIONS - \n",
    "\n",
    "NAVIGATION USING GOOGLE MAP INTEGRATION, VOICE RECOGNITION USING PYTHON FOR VOICE INPUT - SOURCE AND DESTINATION.\n"
   ]
  }
 ],
 "metadata": {
  "kernelspec": {
   "display_name": "Python 3 (ipykernel)",
   "language": "python",
   "name": "python3"
  },
  "language_info": {
   "codemirror_mode": {
    "name": "ipython",
    "version": 3
   },
   "file_extension": ".py",
   "mimetype": "text/x-python",
   "name": "python",
   "nbconvert_exporter": "python",
   "pygments_lexer": "ipython3",
   "version": "3.11.5"
  }
 },
 "nbformat": 4,
 "nbformat_minor": 5
}
